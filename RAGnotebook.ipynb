{
 "cells": [
  {
   "cell_type": "markdown",
   "metadata": {},
   "source": [
    "Access to a file and creation of embedding in a dataframe"
   ]
  },
  {
   "cell_type": "code",
   "execution_count": 27,
   "metadata": {},
   "outputs": [
    {
     "ename": "UnicodeDecodeError",
     "evalue": "'charmap' codec can't decode byte 0x9d in position 2976: character maps to <undefined>",
     "output_type": "error",
     "traceback": [
      "\u001b[1;31m---------------------------------------------------------------------------\u001b[0m",
      "\u001b[1;31mUnicodeDecodeError\u001b[0m                        Traceback (most recent call last)",
      "Cell \u001b[1;32mIn[27], line 2\u001b[0m\n\u001b[0;32m      1\u001b[0m file \u001b[38;5;241m=\u001b[39m \u001b[38;5;28mopen\u001b[39m(\u001b[38;5;124m\"\u001b[39m\u001b[38;5;124mstort.txt\u001b[39m\u001b[38;5;124m\"\u001b[39m,\u001b[38;5;124m'\u001b[39m\u001b[38;5;124mr\u001b[39m\u001b[38;5;124m'\u001b[39m)\n\u001b[1;32m----> 2\u001b[0m text \u001b[38;5;241m=\u001b[39m \u001b[43mfile\u001b[49m\u001b[38;5;241;43m.\u001b[39;49m\u001b[43mreadlines\u001b[49m\u001b[43m(\u001b[49m\u001b[43m)\u001b[49m\n\u001b[0;32m      3\u001b[0m file\u001b[38;5;241m.\u001b[39mclose\n",
      "File \u001b[1;32mc:\\Users\\Blank\\AppData\\Local\\Programs\\Python\\Python311\\Lib\\encodings\\cp1252.py:23\u001b[0m, in \u001b[0;36mIncrementalDecoder.decode\u001b[1;34m(self, input, final)\u001b[0m\n\u001b[0;32m     22\u001b[0m \u001b[38;5;28;01mdef\u001b[39;00m \u001b[38;5;21mdecode\u001b[39m(\u001b[38;5;28mself\u001b[39m, \u001b[38;5;28minput\u001b[39m, final\u001b[38;5;241m=\u001b[39m\u001b[38;5;28;01mFalse\u001b[39;00m):\n\u001b[1;32m---> 23\u001b[0m     \u001b[38;5;28;01mreturn\u001b[39;00m codecs\u001b[38;5;241m.\u001b[39mcharmap_decode(\u001b[38;5;28minput\u001b[39m,\u001b[38;5;28mself\u001b[39m\u001b[38;5;241m.\u001b[39merrors,decoding_table)[\u001b[38;5;241m0\u001b[39m]\n",
      "\u001b[1;31mUnicodeDecodeError\u001b[0m: 'charmap' codec can't decode byte 0x9d in position 2976: character maps to <undefined>"
     ]
    }
   ],
   "source": [
    "file = open(\"stort.txt\",'r')\n",
    "text = file.readlines()\n",
    "file.close"
   ]
  },
  {
   "cell_type": "code",
   "execution_count": null,
   "metadata": {},
   "outputs": [],
   "source": [
    "def text_split(text):\n",
    "    word=''\n",
    "    sentence=''\n",
    "    paragraph=[]\n",
    "    for row in text:\n",
    "        for char in row:\n",
    "            if char !=' ':\n",
    "                word=word+char\n",
    "                #print(word)\n",
    "            else:\n",
    "                sentence=sentence+word\n",
    "                #print(sentence)\n",
    "                word=' '\n",
    "            if len(sentence.split())==300:\n",
    "                #print(sentence)\n",
    "                paragraph.append(sentence)\n",
    "                sentence=' '\n",
    "    paragraph.append(sentence+word) \n",
    "    print(paragraph[-1])   \n",
    "    return paragraph\n"
   ]
  },
  {
   "cell_type": "code",
   "execution_count": null,
   "metadata": {},
   "outputs": [
    {
     "name": "stdout",
     "output_type": "stream",
     "text": [
      "  cestino da picnic. Il cielo si era tinto di arancione e viola, e il vento portava con sÃ© il profumo dei fiori estivi. Alessia guardava l'orizzonte con una luce negli occhi che sembrava raccontare mille storie. \"Sai,\" disse all'improvviso, \"a volte penso che siamo qui per vivere ogni singolo momento con tutta l'anima. Non importa quanto grande o piccolo sia.\"\n",
      "Fu allora che capii quanto fosse importante per me. Alessia aveva la capacitÃ  di vedere il mondo con occhi diversi, di trovare poesia anche nei momenti piÃ¹ ordinari. Con lei, ogni giorno era un regalo, una nuova pagina del nostro racconto.\n",
      "Il tempo passava, e il nostro legame diventava sempre piÃ¹ forte. Abbiamo affrontato insieme le difficoltÃ , riso fino alle lacrime, e costruito ricordi che porteremo sempre nel cuore. Alessia non era solo la mia compagna; era la mia musa, la mia forza, e la mia migliore amica. Con lei, ho imparato che l'amore non Ã¨ solo un sentimento, ma una scelta quotidiana di essere presenti, di condividere e di sostenersi a vicenda.\n",
      "Ora, mentre scrivo queste righe, Alessia Ã¨ qui accanto a me, con quel suo sorriso che non smette mai di incantarmi. Ogni giorno con lei Ã¨ una benedizione, e non smetterÃ² mai di ringraziare la vita per avermi fatto incontrare il mio amore, la mia Alessia\n"
     ]
    }
   ],
   "source": [
    "paragraph = text_split(text)"
   ]
  },
  {
   "cell_type": "markdown",
   "metadata": {},
   "source": [
    "Create text embeddings"
   ]
  },
  {
   "cell_type": "code",
   "execution_count": null,
   "metadata": {},
   "outputs": [],
   "source": [
    "from transformers import BertTokenizer, BertModel\n",
    "from sklearn.metrics.pairwise import cosine_similarity"
   ]
  },
  {
   "cell_type": "code",
   "execution_count": null,
   "metadata": {},
   "outputs": [
    {
     "name": "stderr",
     "output_type": "stream",
     "text": [
      "Some weights of the model checkpoint at bert-base-uncased were not used when initializing BertModel: ['cls.predictions.transform.LayerNorm.bias', 'cls.predictions.bias', 'cls.predictions.transform.LayerNorm.weight', 'cls.predictions.transform.dense.bias', 'cls.predictions.transform.dense.weight', 'cls.seq_relationship.bias', 'cls.seq_relationship.weight']\n",
      "- This IS expected if you are initializing BertModel from the checkpoint of a model trained on another task or with another architecture (e.g. initializing a BertForSequenceClassification model from a BertForPreTraining model).\n",
      "- This IS NOT expected if you are initializing BertModel from the checkpoint of a model that you expect to be exactly identical (initializing a BertForSequenceClassification model from a BertForSequenceClassification model).\n"
     ]
    }
   ],
   "source": [
    "tokenizer = BertTokenizer.from_pretrained('bert-base-uncased')\n",
    "model = BertModel.from_pretrained('bert-base-uncased')"
   ]
  },
  {
   "cell_type": "code",
   "execution_count": null,
   "metadata": {},
   "outputs": [
    {
     "name": "stdout",
     "output_type": "stream",
     "text": [
      "tensor([[  101,  1039,  1005,  3690, 14477, 26089, 14477, 17768, 10936,  4143,\n",
      "          4487,  2053,  4168, 15669, 18719,  2050,  1010,  6335, 12731,  2072,\n",
      "          2061, 18752,  6499, 13642,  3567,  2474,  6178,  6305,  6590,  4487,\n",
      "          5665, 12717, 26148,  6335, 12256,  3527,  6970,  2080,  1012, 13642,\n",
      "          3567, 11192,  4048,  4880,  6894,  3459,  7088, 18178,  4907,  4143,\n",
      "          6212,  2080,  9530,  6335, 18834,  2080,  1041,  1051, 25955,  3609,\n",
      "          2053, 14693,  6030, 18178,  7367, 14905,  2527,  6212,  2080,  9530,\n",
      "          6528,  7869, 10722,  4674,  3393, 15544, 13102, 14122,  2063,  2035,\n",
      "          2063, 14383,  5685,  2063, 24624, 27904, 11268, 15422,  2063,  8611,\n",
      "         19300,  1012, 15669, 18719,  2050,  2512,  3690,  3948, 12101,  1025,\n",
      "         13642,  3567,  4895, 12731,  5686,  8991, 15286,  1041, 14477,  2273,\n",
      "          2618,  7987,  9386, 10111,  1010,  7367,  8737,  2890,  4013, 12380,\n",
      "          1037,  8292, 18992,  2890,  2474,  9852, 20715, 11265,  2072, 27263,\n",
      "         25778,  2072, 20010, 15900,  3669,  8611, 19300,  1012,  3690,  4895,\n",
      "         13433,  5017,  8004, 11411,  1040,  1005,  3776, 24110,  3527,  2474,\n",
      "          4297, 12162, 14995,  2566,  2474, 21111, 26089,  1012,  6335,  7082,\n",
      "         11867,  7770, 24844,  2050, 10766, 11265,  2140, 25022, 18349,  1010,\n",
      "          1041, 22834,  9413,  2080,  7367,  8566,  3406, 10514, 14477,  6090,\n",
      "         17231,  2050,  3972, 27985,  2080,  9530,  4895,  5622, 12618, 18178,\n",
      "          1010,  3707,  2401,  8611,  4066,  2063,  1010,  2512, 15544,  2271,\n",
      "          6895,  6767,  1037,  4190,  4590,  2063,  1012, 26947,  3413,  2050,\n",
      "         10701,  4487,  2474, 29655,  1010,  9530,  4895,  6187, 26745, 25226,\n",
      "          2632, 26458, 16786, 29480,  1010,  1041,  2566,  4895, 21541, 12956,\n",
      "          6335, 13657,  7367, 14905,  2527, 10701, 10768, 17830,  2869,  2072,\n",
      "          1012,  6335, 10514,  2080,  2061, 18752,  6499,  3690,  4895, 17768,\n",
      "         11411,  4487, 19913, 18178,  2771,   102]])\n",
      "tensor([[  101,  8292, 16643,  3630,  4830, 12695,  1012,  6335, 25022, 18349,\n",
      "          9033,  3690,  9543,  3406,  4487, 19027, 12273,  3258,  2063,  1041,\n",
      "         10482,  1010,  1041,  6335, 18834,  2080,  3417, 12462,  9530,  7842,\n",
      "         29652,  6335, 11268,  2819,  2080, 14866, 10882, 10050,  9765, 12848,\n",
      "          2072,  1012, 15669, 18719,  2050,  3457, 12462,  1048,  1005,  2030,\n",
      "         10993, 11597,  2618,  9530, 14477, 19913, 11265, 25394,  1051, 25955,\n",
      "         18178,  7367, 14905,  2527,  3567, 10958, 21408, 12380,  2890,  4971,\n",
      "          2063,  2358, 10050,  2063,  1012,  1000, 18952,  1010,  1000,  4487,\n",
      "         11393,  2035,  1005, 17727, 12298, 11365,  2080,  1010,  1000,  1037,\n",
      "          5285,  2618, 25636,  2080, 18178, 25583,  2080, 21864,  2566,  6819,\n",
      "         28943, 13958,  3490,  6170, 12898,  2617,  2080,  9530, 10722,  5946,\n",
      "          1048,  1005,  2019,  9581,  1012,  2512, 12324,  2050, 24110,  3406,\n",
      "          9026,  1051, 29368,  9033,  2050,  1012,  1000, 11865,  2035,  6525,\n",
      "         18178,  6178,  6137, 24110,  3406,  1042, 15094,  2063,  2590,  2063,\n",
      "          2566,  2033,  1012, 15669, 18719,  2050, 13642,  3567,  2474,  6178,\n",
      "          6305,  6590,  4487,  2310,  4063,  2063,  6335, 12256,  3527,  9530,\n",
      "          1051, 25955, 18612,  2072,  1010,  4487, 19817,  7103,  2890, 18922,\n",
      "          8464,  2019,  5403, 11265,  2072,  2617,  2072, 24624, 27904,  2030,\n",
      "         18979,  3089,  1012,  9530, 26947,  1010, 13958,  3490, 21025, 26295,\n",
      "          3690,  4895, 21279,  2080,  1010, 14477, 16371,  7103,  6643, 20876,\n",
      "          3972, 16839, 13181, 10958, 21408, 13663,  1012,  6335, 13657,  3413,\n",
      "         12462,  1010,  1041,  6335, 16839, 13181,  4190, 14074, 11529, 12380,\n",
      "          3567,  7367,  8737,  2890, 24624, 27904, 24898,  1012, 11113, 11607,\n",
      "          5302, 21358, 12792, 10610, 16021,  2666,  4168,  3393,  4487, 26989,\n",
      "         25778,  2696,  1010, 15544,  6499, 10346,  2080,  2035,  2063, 18749,\n",
      "         20026,  2063,  1010,  1041,  3465,   102]])\n"
     ]
    }
   ],
   "source": [
    "def embedding_text(text):\n",
    "    encoding = tokenizer.batch_encode_plus([text],\n",
    "                padding='max_length',\n",
    "                max_length=256,\n",
    "                truncation=True,\n",
    "                return_tensors='pt',\n",
    "                add_special_tokens=True)\n",
    "    input_ids = encoding['input_ids']\n",
    "    return input_ids\n",
    "\n",
    "for i in range(len(paragraph)):\n",
    "    paragraph[i]=embedding_text(paragraph[i])\n",
    "    print(paragraph[i])\n",
    "\n"
   ]
  },
  {
   "cell_type": "code",
   "execution_count": null,
   "metadata": {},
   "outputs": [
    {
     "name": "stdout",
     "output_type": "stream",
     "text": [
      "torch.Size([1, 256])\n",
      "torch.Size([1, 256])\n",
      "[[0.1211085]]\n",
      "[[0.10970345]]\n",
      "c'era una volta una ragazza di nome alessia, il cui sorriso aveva la capacita di illuminare il mondo intero. aveva lunghi capelli castani che danzavano con il vento e occhi color nocciola che sembravano contenere tutte le risposte alle domande pia¹ profonde della vita. alessia non era solo bella ; aveva un cuore gentile e una mente brillante, sempre pronta a cercare la bellezza nei piccoli dettagli della vita. era un pomeriggio d'estate quando la incontrai per la prima volta. il sole splendeva alto nel cielo, e io ero seduto su una panchina del parco con un libro che, ironia della sorte, non riuscivo a leggere. lei passa² di la¬, con un cagnolino al guinzaglio, e per un istante il tempo sembra² fermarsi. il suo sorriso era un raggio di luce che mi\n",
      "[[0.1211085]]\n"
     ]
    }
   ],
   "source": [
    "user_question = 'Che era in grado di vedere alessia'\n",
    "user_emb = embedding_text(user_question)\n",
    "print(user_emb.size())\n",
    "print(paragraph[0].size())\n",
    "\n",
    "max_match=0\n",
    "match_paragraph=[]\n",
    "for ele in paragraph:\n",
    "    print(cosine_similarity(user_emb,ele))\n",
    "    if cosine_similarity(user_emb,ele) > max_match:\n",
    "        \n",
    "        max_match = cosine_similarity(user_emb,ele)\n",
    "        match_paragraph=[ele,max_match]\n",
    "\n",
    "\n",
    "print(tokenizer.decode(match_paragraph[0][0], skip_special_tokens=True))\n",
    "print(match_paragraph[1])"
   ]
  },
  {
   "cell_type": "code",
   "execution_count": null,
   "metadata": {},
   "outputs": [],
   "source": []
  },
  {
   "cell_type": "markdown",
   "metadata": {},
   "source": []
  }
 ],
 "metadata": {
  "kernelspec": {
   "display_name": "Python 3",
   "language": "python",
   "name": "python3"
  },
  "language_info": {
   "codemirror_mode": {
    "name": "ipython",
    "version": 3
   },
   "file_extension": ".py",
   "mimetype": "text/x-python",
   "name": "python",
   "nbconvert_exporter": "python",
   "pygments_lexer": "ipython3",
   "version": "3.11.7"
  }
 },
 "nbformat": 4,
 "nbformat_minor": 2
}
