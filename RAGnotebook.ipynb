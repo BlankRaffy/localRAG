{
 "cells": [
  {
   "cell_type": "markdown",
   "metadata": {},
   "source": [
    "Access to a file and creation of embedding in a dataframe"
   ]
  },
  {
   "cell_type": "code",
   "execution_count": 6,
   "metadata": {},
   "outputs": [
    {
     "data": {
      "text/plain": [
       "<function TextIOWrapper.close()>"
      ]
     },
     "execution_count": 6,
     "metadata": {},
     "output_type": "execute_result"
    }
   ],
   "source": [
    "file = open(\"stort.txt\",'r')\n",
    "text = file.readlines()\n",
    "file.close"
   ]
  },
  {
   "cell_type": "code",
   "execution_count": 73,
   "metadata": {},
   "outputs": [],
   "source": [
    "def text_split(text):\n",
    "    word=''\n",
    "    sentence=''\n",
    "    paragraph=[]\n",
    "    for row in text:\n",
    "        for char in row:\n",
    "            if char !=' ':\n",
    "                word=word+char\n",
    "                #print(word)\n",
    "            else:\n",
    "                sentence=sentence+word\n",
    "                #print(sentence)\n",
    "                word=' '\n",
    "            if len(sentence.split())==100:\n",
    "                #print(sentence)\n",
    "                paragraph.append(sentence)\n",
    "                sentence=' '\n",
    "\n",
    "    return paragraph\n"
   ]
  },
  {
   "cell_type": "code",
   "execution_count": 74,
   "metadata": {},
   "outputs": [],
   "source": [
    "paragraph = text_split(text)"
   ]
  },
  {
   "cell_type": "markdown",
   "metadata": {},
   "source": [
    "Create text embeddings"
   ]
  },
  {
   "cell_type": "code",
   "execution_count": 76,
   "metadata": {},
   "outputs": [],
   "source": [
    "from transformers import BertTokenizer, BertModel\n",
    "from sklearn.metrics.pairwise import cosine_similarity"
   ]
  },
  {
   "cell_type": "code",
   "execution_count": 77,
   "metadata": {},
   "outputs": [
    {
     "name": "stderr",
     "output_type": "stream",
     "text": [
      "vocab.txt: 100%|██████████| 232k/232k [00:00<00:00, 1.15MB/s]\n",
      "c:\\Users\\Blank\\AppData\\Local\\Programs\\Python\\Python311\\Lib\\site-packages\\huggingface_hub\\file_download.py:149: UserWarning: `huggingface_hub` cache-system uses symlinks by default to efficiently store duplicated files but your machine does not support them in C:\\Users\\Blank\\.cache\\huggingface\\hub\\models--bert-base-uncased. Caching files will still work but in a degraded version that might require more space on your disk. This warning can be disabled by setting the `HF_HUB_DISABLE_SYMLINKS_WARNING` environment variable. For more details, see https://huggingface.co/docs/huggingface_hub/how-to-cache#limitations.\n",
      "To support symlinks on Windows, you either need to activate Developer Mode or to run Python as an administrator. In order to see activate developer mode, see this article: https://docs.microsoft.com/en-us/windows/apps/get-started/enable-your-device-for-development\n",
      "  warnings.warn(message)\n",
      "tokenizer_config.json: 100%|██████████| 48.0/48.0 [00:00<?, ?B/s]\n",
      "config.json: 100%|██████████| 570/570 [00:00<?, ?B/s] \n",
      "model.safetensors: 100%|██████████| 440M/440M [00:30<00:00, 14.6MB/s] \n",
      "Some weights of the model checkpoint at bert-base-uncased were not used when initializing BertModel: ['cls.predictions.transform.LayerNorm.bias', 'cls.predictions.transform.dense.bias', 'cls.seq_relationship.weight', 'cls.predictions.transform.dense.weight', 'cls.predictions.bias', 'cls.predictions.transform.LayerNorm.weight', 'cls.seq_relationship.bias']\n",
      "- This IS expected if you are initializing BertModel from the checkpoint of a model trained on another task or with another architecture (e.g. initializing a BertForSequenceClassification model from a BertForPreTraining model).\n",
      "- This IS NOT expected if you are initializing BertModel from the checkpoint of a model that you expect to be exactly identical (initializing a BertForSequenceClassification model from a BertForSequenceClassification model).\n"
     ]
    }
   ],
   "source": [
    "tokenizer = BertTokenizer.from_pretrained('bert-base-uncased')\n",
    "model = BertModel.from_pretrained('bert-base-uncased')"
   ]
  },
  {
   "cell_type": "code",
   "execution_count": 88,
   "metadata": {},
   "outputs": [
    {
     "name": "stdout",
     "output_type": "stream",
     "text": [
      "tensor([[  101,  1039,  1005,  3690, 14477, 26089, 14477, 17768, 10936,  4143,\n",
      "          4487,  2053,  4168, 15669, 18719,  2050,  1010,  6335, 12731,  2072,\n",
      "          2061, 18752,  6499, 13642,  3567,  2474,  6178,  6305,  6590,  4487,\n",
      "          5665, 12717, 26148,  6335, 12256,  3527,  6970,  2080,  1012, 13642,\n",
      "          3567, 11192,  4048,  4880,  6894,  3459,  7088, 18178,  4907,  4143,\n",
      "          6212,  2080,  9530,  6335, 18834,  2080,  1041,  1051, 25955,  3609,\n",
      "          2053, 14693,  6030, 18178,  7367, 14905,  2527,  6212,  2080,  9530,\n",
      "          6528,  7869, 10722,  4674,  3393, 15544, 13102, 14122,  2063,  2035,\n",
      "          2063, 14383,  5685,  2063, 24624, 27904, 11268, 15422,  2063,  8611,\n",
      "         19300,  1012, 15669, 18719,  2050,  2512,  3690,  3948, 12101,  1025,\n",
      "         13642,  3567,  4895, 12731,  5686,  8991, 15286,  1041, 14477,  2273,\n",
      "          2618,  7987,  9386, 10111,  1010,  7367,  8737,  2890,  4013, 12380,\n",
      "          1037,  8292, 18992,  2890,  2474,  9852, 20715, 11265,  2072, 27263,\n",
      "         25778,  2072, 20010, 15900,  3669,  8611, 19300,  1012,  3690,  4895,\n",
      "         13433,  5017,  8004, 11411,  1040,  1005,  3776, 24110,  3527,  2474,\n",
      "          4297, 12162, 14995,  2566,  2474, 21111, 26089,  1012,  6335,  7082,\n",
      "         11867,  7770, 24844,  2050, 10766, 11265,  2140, 25022, 18349,  1010,\n",
      "          1041, 22834,  9413,  2080,  7367,  8566,  3406, 10514, 14477,  6090,\n",
      "         17231,  2050,  3972, 27985,  2080,  9530,  4895,  5622, 12618, 18178,\n",
      "          1010,  3707,  2401,  8611,   102]])\n"
     ]
    },
    {
     "data": {
      "text/plain": [
       "\"[CLS] c'era una volta una ragazza di nome alessia, il cui sorriso aveva la capacita di illuminare il mondo intero. aveva lunghi capelli castani che danzavano con il vento e occhi color nocciola che sembravano contenere tutte le risposte alle domande pia¹ profonde della vita. alessia non era solo bella ; aveva un cuore gentile e una mente brillante, sempre pronta a cercare la bellezza nei piccoli dettagli della vita. era un pomeriggio d'estate quando la incontrai per la prima volta. il sole splendeva alto nel cielo, e io ero seduto su una panchina del parco con un libro che, ironia della [SEP]\""
      ]
     },
     "execution_count": 88,
     "metadata": {},
     "output_type": "execute_result"
    }
   ],
   "source": [
    "def embedding_text(text):\n",
    "    encoding = tokenizer.batch_encode_plus([text],\n",
    "                padding=True,\n",
    "                truncation=True,\n",
    "                return_tensors='pt',\n",
    "                add_special_tokens=True)\n",
    "    input_ids = encoding['input_ids']\n",
    "    print(input_ids)\n",
    "    return input_ids\n",
    "    "
   ]
  }
 ],
 "metadata": {
  "kernelspec": {
   "display_name": "Python 3",
   "language": "python",
   "name": "python3"
  },
  "language_info": {
   "codemirror_mode": {
    "name": "ipython",
    "version": 3
   },
   "file_extension": ".py",
   "mimetype": "text/x-python",
   "name": "python",
   "nbconvert_exporter": "python",
   "pygments_lexer": "ipython3",
   "version": "3.11.7"
  }
 },
 "nbformat": 4,
 "nbformat_minor": 2
}
